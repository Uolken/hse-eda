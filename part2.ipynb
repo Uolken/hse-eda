{
 "cells": [
  {
   "cell_type": "code",
   "id": "initial_id",
   "metadata": {
    "collapsed": true,
    "ExecuteTime": {
     "end_time": "2024-09-04T20:34:54.913958Z",
     "start_time": "2024-09-04T20:34:53.712321Z"
    }
   },
   "source": [
    "import pandas as pd\n",
    "\n",
    "df = pd.read_csv('books_data.csv')"
   ],
   "outputs": [],
   "execution_count": 1
  },
  {
   "cell_type": "markdown",
   "id": "10432b36",
   "metadata": {},
   "source": [
    "1. Выведите первые 5 строк датасета. (0.25). Сколько в нём строк и столбцов (0.25)? \n",
    "   - 959 строк\n",
    "   - 12 столбцов"
   ]
  },
  {
   "cell_type": "code",
   "id": "8b781ba5",
   "metadata": {
    "ExecuteTime": {
     "end_time": "2024-09-04T20:34:57.133575Z",
     "start_time": "2024-09-04T20:34:57.121972Z"
    }
   },
   "source": [
    "df.head(5)"
   ],
   "outputs": [
    {
     "data": {
      "text/plain": [
       "   Unnamed: 0                                               name  \\\n",
       "0           0  Изучаем DDD – предметно-ориентированное проект...   \n",
       "1           1  Высоконагруженные приложения. Программирование...   \n",
       "2           2      System Design. Подготовка к сложному интервью   \n",
       "3           3                 Начинаем программировать на Python   \n",
       "4           4                                   Нейросети начало   \n",
       "\n",
       "            author                                               link  rating  \\\n",
       "0     Влад Хононов  /book/vlad-hononov/izuchaem-ddd-predmetno-orie...    0.00   \n",
       "1  Мартин Клеппман  /book/martin-kleppman-1733/vysokonagruzhennye-...    3.98   \n",
       "2        Алекс Сюй  /book/aleks-suy/system-design-podgotovka-k-slo...    3.59   \n",
       "3      Тони Гэддис  /book/toni-geddis-32491161/nachinaem-programmi...    4.94   \n",
       "4     Джейд Картер    /book/dzheyd-karter/neyroseti-nachalo-69188950/    4.88   \n",
       "\n",
       "   rating_count  review_count  pages_count  price  \\\n",
       "0             0             1        319.0  549.0   \n",
       "1            51            11        640.0  799.0   \n",
       "2            17             9        304.0  699.0   \n",
       "3            16             6        875.0  599.0   \n",
       "4           440            37        102.0  690.0   \n",
       "\n",
       "                                        text_reviews  age    year  \n",
       "0  ['Эта книга из той лиги, в которой я пока не с...   0+  2022.0  \n",
       "1  ['Не могу что-либо про перевод сказать, читал ...  16+  2017.0  \n",
       "2  ['Добротная книга по разработке архитектуры пр...  16+  2020.0  \n",
       "3  ['Шикарная книга! Начал изучать Python самосто...  12+  2021.0  \n",
       "4  ['Книга отличная. Давно хотела понять как все ...  12+  2023.0  "
      ],
      "text/html": [
       "<div>\n",
       "<style scoped>\n",
       "    .dataframe tbody tr th:only-of-type {\n",
       "        vertical-align: middle;\n",
       "    }\n",
       "\n",
       "    .dataframe tbody tr th {\n",
       "        vertical-align: top;\n",
       "    }\n",
       "\n",
       "    .dataframe thead th {\n",
       "        text-align: right;\n",
       "    }\n",
       "</style>\n",
       "<table border=\"1\" class=\"dataframe\">\n",
       "  <thead>\n",
       "    <tr style=\"text-align: right;\">\n",
       "      <th></th>\n",
       "      <th>Unnamed: 0</th>\n",
       "      <th>name</th>\n",
       "      <th>author</th>\n",
       "      <th>link</th>\n",
       "      <th>rating</th>\n",
       "      <th>rating_count</th>\n",
       "      <th>review_count</th>\n",
       "      <th>pages_count</th>\n",
       "      <th>price</th>\n",
       "      <th>text_reviews</th>\n",
       "      <th>age</th>\n",
       "      <th>year</th>\n",
       "    </tr>\n",
       "  </thead>\n",
       "  <tbody>\n",
       "    <tr>\n",
       "      <th>0</th>\n",
       "      <td>0</td>\n",
       "      <td>Изучаем DDD – предметно-ориентированное проект...</td>\n",
       "      <td>Влад Хононов</td>\n",
       "      <td>/book/vlad-hononov/izuchaem-ddd-predmetno-orie...</td>\n",
       "      <td>0.00</td>\n",
       "      <td>0</td>\n",
       "      <td>1</td>\n",
       "      <td>319.0</td>\n",
       "      <td>549.0</td>\n",
       "      <td>['Эта книга из той лиги, в которой я пока не с...</td>\n",
       "      <td>0+</td>\n",
       "      <td>2022.0</td>\n",
       "    </tr>\n",
       "    <tr>\n",
       "      <th>1</th>\n",
       "      <td>1</td>\n",
       "      <td>Высоконагруженные приложения. Программирование...</td>\n",
       "      <td>Мартин Клеппман</td>\n",
       "      <td>/book/martin-kleppman-1733/vysokonagruzhennye-...</td>\n",
       "      <td>3.98</td>\n",
       "      <td>51</td>\n",
       "      <td>11</td>\n",
       "      <td>640.0</td>\n",
       "      <td>799.0</td>\n",
       "      <td>['Не могу что-либо про перевод сказать, читал ...</td>\n",
       "      <td>16+</td>\n",
       "      <td>2017.0</td>\n",
       "    </tr>\n",
       "    <tr>\n",
       "      <th>2</th>\n",
       "      <td>2</td>\n",
       "      <td>System Design. Подготовка к сложному интервью</td>\n",
       "      <td>Алекс Сюй</td>\n",
       "      <td>/book/aleks-suy/system-design-podgotovka-k-slo...</td>\n",
       "      <td>3.59</td>\n",
       "      <td>17</td>\n",
       "      <td>9</td>\n",
       "      <td>304.0</td>\n",
       "      <td>699.0</td>\n",
       "      <td>['Добротная книга по разработке архитектуры пр...</td>\n",
       "      <td>16+</td>\n",
       "      <td>2020.0</td>\n",
       "    </tr>\n",
       "    <tr>\n",
       "      <th>3</th>\n",
       "      <td>3</td>\n",
       "      <td>Начинаем программировать на Python</td>\n",
       "      <td>Тони Гэддис</td>\n",
       "      <td>/book/toni-geddis-32491161/nachinaem-programmi...</td>\n",
       "      <td>4.94</td>\n",
       "      <td>16</td>\n",
       "      <td>6</td>\n",
       "      <td>875.0</td>\n",
       "      <td>599.0</td>\n",
       "      <td>['Шикарная книга! Начал изучать Python самосто...</td>\n",
       "      <td>12+</td>\n",
       "      <td>2021.0</td>\n",
       "    </tr>\n",
       "    <tr>\n",
       "      <th>4</th>\n",
       "      <td>4</td>\n",
       "      <td>Нейросети начало</td>\n",
       "      <td>Джейд Картер</td>\n",
       "      <td>/book/dzheyd-karter/neyroseti-nachalo-69188950/</td>\n",
       "      <td>4.88</td>\n",
       "      <td>440</td>\n",
       "      <td>37</td>\n",
       "      <td>102.0</td>\n",
       "      <td>690.0</td>\n",
       "      <td>['Книга отличная. Давно хотела понять как все ...</td>\n",
       "      <td>12+</td>\n",
       "      <td>2023.0</td>\n",
       "    </tr>\n",
       "  </tbody>\n",
       "</table>\n",
       "</div>"
      ]
     },
     "execution_count": 2,
     "metadata": {},
     "output_type": "execute_result"
    }
   ],
   "execution_count": 2
  },
  {
   "cell_type": "code",
   "id": "25a96e3f",
   "metadata": {
    "ExecuteTime": {
     "end_time": "2024-09-04T20:35:00.762346Z",
     "start_time": "2024-09-04T20:35:00.758153Z"
    }
   },
   "source": [
    "df.shape"
   ],
   "outputs": [
    {
     "data": {
      "text/plain": [
       "(959, 12)"
      ]
     },
     "execution_count": 3,
     "metadata": {},
     "output_type": "execute_result"
    }
   ],
   "execution_count": 3
  },
  {
   "cell_type": "markdown",
   "id": "ee35e0d9",
   "metadata": {},
   "source": [
    "2. Есть ли в датасете пропуски? (0.5)\n",
    "   - Да"
   ]
  },
  {
   "cell_type": "code",
   "id": "6a3531d52bc68794",
   "metadata": {
    "ExecuteTime": {
     "end_time": "2024-09-04T20:35:14.793301Z",
     "start_time": "2024-09-04T20:35:14.783253Z"
    }
   },
   "source": "df[df.isnull().any(axis=1)]",
   "outputs": [
    {
     "data": {
      "text/plain": [
       "     Unnamed: 0                                               name  \\\n",
       "6             6  Чистый код: создание, анализ и рефакторинг (pd...   \n",
       "41           41  Взломать всё: Как сильные мира сего используют...   \n",
       "51           51  Android. Полное руководство по разработке прил...   \n",
       "59           59  Чистый код: создание, анализ и рефакторинг (pd...   \n",
       "76           76  Карьера в IT. Как найти работу, прокачать навы...   \n",
       "..          ...                                                ...   \n",
       "710         710  Telegram Bot. Руководство по созданию бота в м...   \n",
       "712         712  Настольная книга веб-дизайнера. Практический к...   \n",
       "716         716                                   Время быть Agile   \n",
       "756         756         Программирование для карманных компьютеров   \n",
       "952         952  SQL и реляционная теория. Как грамотно писать ...   \n",
       "\n",
       "                author                                               link  \\\n",
       "6        Роберт Мартин  /book/robert-s-martin/chistyy-kod-sozdanie-ana...   \n",
       "41         Брюс Шнайер  /audiobook/bruce-schneier/vzlomat-vse-kak-siln...   \n",
       "51   Коллектив авторов  /book/raznoe-4340152/android-polnoe-rukovodstv...   \n",
       "59       Роберт Мартин  /book/robert-s-martin/chistyy-kod-sozdanie-ana...   \n",
       "76         Джон Сонмез  /audiobook/dzhon-sonmez/karera-v-it-kak-nayti-...   \n",
       "..                 ...                                                ...   \n",
       "710    Артем Демиденко  /audiobook/artem-demidenko/telegram-bot-rukovo...   \n",
       "712     Ирина Никулина  /audiobook/irina-nikulina-32315/nastolnaya-kni...   \n",
       "716  Марина Михайленко  /audiobook/marina-mihaylenko/vremya-byt-agile-...   \n",
       "756    Владимир Волков  /book/vladimir-volkov/programmirovanie-dlya-ka...   \n",
       "952        К. Дж. Дейт  /book/k-dzh-deyt/sql-i-relyacionnaya-teoriya-k...   \n",
       "\n",
       "     rating  rating_count  review_count  pages_count  price  \\\n",
       "6      4.23           121            19        464.0  599.0   \n",
       "41     4.50            34             6          NaN  599.0   \n",
       "51     3.00             2             1        642.0  599.0   \n",
       "59     4.00             3             0        464.0  599.0   \n",
       "76     4.67            12             1          NaN  689.0   \n",
       "..      ...           ...           ...          ...    ...   \n",
       "710    3.00             4             2          NaN  199.0   \n",
       "712    5.00             3             0          NaN  176.0   \n",
       "716    4.38             8             2          NaN  449.0   \n",
       "756    4.00             2             1        473.0   59.0   \n",
       "952    3.57            14             2        472.0  390.0   \n",
       "\n",
       "                                          text_reviews  age    year  \n",
       "6    ['Несмотря на то, что некоторые вещи, расмотре...  16+     NaN  \n",
       "41   ['Купила книгу ради эксперимента – я очень дал...  16+  2023.0  \n",
       "51   ['Такое ощущение, что это перевод help файла п...  16+     NaN  \n",
       "59                                                  []  16+     NaN  \n",
       "76   ['Действительно очень хорошая книга которая ра...  12+  2017.0  \n",
       "..                                                 ...  ...     ...  \n",
       "710  ['Похоже, что большая часть сгенерирована Chat...  12+  2023.0  \n",
       "712                                                 []  12+  2023.0  \n",
       "716  ['Неоднозначное впечатление от книги. Из плюсо...  16+  2021.0  \n",
       "756  ['Материал морально устарел.Ищите книги по про...   0+     NaN  \n",
       "952  ['По сути автор рассказывает о логике и алгебр...   0+     NaN  \n",
       "\n",
       "[114 rows x 12 columns]"
      ],
      "text/html": [
       "<div>\n",
       "<style scoped>\n",
       "    .dataframe tbody tr th:only-of-type {\n",
       "        vertical-align: middle;\n",
       "    }\n",
       "\n",
       "    .dataframe tbody tr th {\n",
       "        vertical-align: top;\n",
       "    }\n",
       "\n",
       "    .dataframe thead th {\n",
       "        text-align: right;\n",
       "    }\n",
       "</style>\n",
       "<table border=\"1\" class=\"dataframe\">\n",
       "  <thead>\n",
       "    <tr style=\"text-align: right;\">\n",
       "      <th></th>\n",
       "      <th>Unnamed: 0</th>\n",
       "      <th>name</th>\n",
       "      <th>author</th>\n",
       "      <th>link</th>\n",
       "      <th>rating</th>\n",
       "      <th>rating_count</th>\n",
       "      <th>review_count</th>\n",
       "      <th>pages_count</th>\n",
       "      <th>price</th>\n",
       "      <th>text_reviews</th>\n",
       "      <th>age</th>\n",
       "      <th>year</th>\n",
       "    </tr>\n",
       "  </thead>\n",
       "  <tbody>\n",
       "    <tr>\n",
       "      <th>6</th>\n",
       "      <td>6</td>\n",
       "      <td>Чистый код: создание, анализ и рефакторинг (pd...</td>\n",
       "      <td>Роберт Мартин</td>\n",
       "      <td>/book/robert-s-martin/chistyy-kod-sozdanie-ana...</td>\n",
       "      <td>4.23</td>\n",
       "      <td>121</td>\n",
       "      <td>19</td>\n",
       "      <td>464.0</td>\n",
       "      <td>599.0</td>\n",
       "      <td>['Несмотря на то, что некоторые вещи, расмотре...</td>\n",
       "      <td>16+</td>\n",
       "      <td>NaN</td>\n",
       "    </tr>\n",
       "    <tr>\n",
       "      <th>41</th>\n",
       "      <td>41</td>\n",
       "      <td>Взломать всё: Как сильные мира сего используют...</td>\n",
       "      <td>Брюс Шнайер</td>\n",
       "      <td>/audiobook/bruce-schneier/vzlomat-vse-kak-siln...</td>\n",
       "      <td>4.50</td>\n",
       "      <td>34</td>\n",
       "      <td>6</td>\n",
       "      <td>NaN</td>\n",
       "      <td>599.0</td>\n",
       "      <td>['Купила книгу ради эксперимента – я очень дал...</td>\n",
       "      <td>16+</td>\n",
       "      <td>2023.0</td>\n",
       "    </tr>\n",
       "    <tr>\n",
       "      <th>51</th>\n",
       "      <td>51</td>\n",
       "      <td>Android. Полное руководство по разработке прил...</td>\n",
       "      <td>Коллектив авторов</td>\n",
       "      <td>/book/raznoe-4340152/android-polnoe-rukovodstv...</td>\n",
       "      <td>3.00</td>\n",
       "      <td>2</td>\n",
       "      <td>1</td>\n",
       "      <td>642.0</td>\n",
       "      <td>599.0</td>\n",
       "      <td>['Такое ощущение, что это перевод help файла п...</td>\n",
       "      <td>16+</td>\n",
       "      <td>NaN</td>\n",
       "    </tr>\n",
       "    <tr>\n",
       "      <th>59</th>\n",
       "      <td>59</td>\n",
       "      <td>Чистый код: создание, анализ и рефакторинг (pd...</td>\n",
       "      <td>Роберт Мартин</td>\n",
       "      <td>/book/robert-s-martin/chistyy-kod-sozdanie-ana...</td>\n",
       "      <td>4.00</td>\n",
       "      <td>3</td>\n",
       "      <td>0</td>\n",
       "      <td>464.0</td>\n",
       "      <td>599.0</td>\n",
       "      <td>[]</td>\n",
       "      <td>16+</td>\n",
       "      <td>NaN</td>\n",
       "    </tr>\n",
       "    <tr>\n",
       "      <th>76</th>\n",
       "      <td>76</td>\n",
       "      <td>Карьера в IT. Как найти работу, прокачать навы...</td>\n",
       "      <td>Джон Сонмез</td>\n",
       "      <td>/audiobook/dzhon-sonmez/karera-v-it-kak-nayti-...</td>\n",
       "      <td>4.67</td>\n",
       "      <td>12</td>\n",
       "      <td>1</td>\n",
       "      <td>NaN</td>\n",
       "      <td>689.0</td>\n",
       "      <td>['Действительно очень хорошая книга которая ра...</td>\n",
       "      <td>12+</td>\n",
       "      <td>2017.0</td>\n",
       "    </tr>\n",
       "    <tr>\n",
       "      <th>...</th>\n",
       "      <td>...</td>\n",
       "      <td>...</td>\n",
       "      <td>...</td>\n",
       "      <td>...</td>\n",
       "      <td>...</td>\n",
       "      <td>...</td>\n",
       "      <td>...</td>\n",
       "      <td>...</td>\n",
       "      <td>...</td>\n",
       "      <td>...</td>\n",
       "      <td>...</td>\n",
       "      <td>...</td>\n",
       "    </tr>\n",
       "    <tr>\n",
       "      <th>710</th>\n",
       "      <td>710</td>\n",
       "      <td>Telegram Bot. Руководство по созданию бота в м...</td>\n",
       "      <td>Артем Демиденко</td>\n",
       "      <td>/audiobook/artem-demidenko/telegram-bot-rukovo...</td>\n",
       "      <td>3.00</td>\n",
       "      <td>4</td>\n",
       "      <td>2</td>\n",
       "      <td>NaN</td>\n",
       "      <td>199.0</td>\n",
       "      <td>['Похоже, что большая часть сгенерирована Chat...</td>\n",
       "      <td>12+</td>\n",
       "      <td>2023.0</td>\n",
       "    </tr>\n",
       "    <tr>\n",
       "      <th>712</th>\n",
       "      <td>712</td>\n",
       "      <td>Настольная книга веб-дизайнера. Практический к...</td>\n",
       "      <td>Ирина Никулина</td>\n",
       "      <td>/audiobook/irina-nikulina-32315/nastolnaya-kni...</td>\n",
       "      <td>5.00</td>\n",
       "      <td>3</td>\n",
       "      <td>0</td>\n",
       "      <td>NaN</td>\n",
       "      <td>176.0</td>\n",
       "      <td>[]</td>\n",
       "      <td>12+</td>\n",
       "      <td>2023.0</td>\n",
       "    </tr>\n",
       "    <tr>\n",
       "      <th>716</th>\n",
       "      <td>716</td>\n",
       "      <td>Время быть Agile</td>\n",
       "      <td>Марина Михайленко</td>\n",
       "      <td>/audiobook/marina-mihaylenko/vremya-byt-agile-...</td>\n",
       "      <td>4.38</td>\n",
       "      <td>8</td>\n",
       "      <td>2</td>\n",
       "      <td>NaN</td>\n",
       "      <td>449.0</td>\n",
       "      <td>['Неоднозначное впечатление от книги. Из плюсо...</td>\n",
       "      <td>16+</td>\n",
       "      <td>2021.0</td>\n",
       "    </tr>\n",
       "    <tr>\n",
       "      <th>756</th>\n",
       "      <td>756</td>\n",
       "      <td>Программирование для карманных компьютеров</td>\n",
       "      <td>Владимир Волков</td>\n",
       "      <td>/book/vladimir-volkov/programmirovanie-dlya-ka...</td>\n",
       "      <td>4.00</td>\n",
       "      <td>2</td>\n",
       "      <td>1</td>\n",
       "      <td>473.0</td>\n",
       "      <td>59.0</td>\n",
       "      <td>['Материал морально устарел.Ищите книги по про...</td>\n",
       "      <td>0+</td>\n",
       "      <td>NaN</td>\n",
       "    </tr>\n",
       "    <tr>\n",
       "      <th>952</th>\n",
       "      <td>952</td>\n",
       "      <td>SQL и реляционная теория. Как грамотно писать ...</td>\n",
       "      <td>К. Дж. Дейт</td>\n",
       "      <td>/book/k-dzh-deyt/sql-i-relyacionnaya-teoriya-k...</td>\n",
       "      <td>3.57</td>\n",
       "      <td>14</td>\n",
       "      <td>2</td>\n",
       "      <td>472.0</td>\n",
       "      <td>390.0</td>\n",
       "      <td>['По сути автор рассказывает о логике и алгебр...</td>\n",
       "      <td>0+</td>\n",
       "      <td>NaN</td>\n",
       "    </tr>\n",
       "  </tbody>\n",
       "</table>\n",
       "<p>114 rows × 12 columns</p>\n",
       "</div>"
      ]
     },
     "execution_count": 4,
     "metadata": {},
     "output_type": "execute_result"
    }
   ],
   "execution_count": 4
  },
  {
   "cell_type": "markdown",
   "id": "313f0210",
   "metadata": {},
   "source": [
    "3. Проверьте типы данных. Если это необходимо, приведите к типам int и float те столбцы, с которыми понадобится работать как с числами. (1)."
   ]
  },
  {
   "cell_type": "code",
   "id": "c4a2c716",
   "metadata": {
    "ExecuteTime": {
     "end_time": "2024-09-04T20:36:26.807569Z",
     "start_time": "2024-09-04T20:36:26.802547Z"
    }
   },
   "source": [
    "df.dtypes"
   ],
   "outputs": [
    {
     "data": {
      "text/plain": [
       "Unnamed: 0        int64\n",
       "name             object\n",
       "author           object\n",
       "link             object\n",
       "rating          float64\n",
       "rating_count      int64\n",
       "review_count      int64\n",
       "pages_count     float64\n",
       "price           float64\n",
       "text_reviews     object\n",
       "age              object\n",
       "year            float64\n",
       "dtype: object"
      ]
     },
     "execution_count": 5,
     "metadata": {},
     "output_type": "execute_result"
    }
   ],
   "execution_count": 5
  },
  {
   "cell_type": "markdown",
   "id": "db76ee57",
   "metadata": {},
   "source": [
    "4. Выведите описательные статистики переменных. Ответьте на следующие вопросы:\n",
    "\n",
    "    - Какая медианная цена книги в вашем датасете? (1)\n",
    "        - 349\n",
    "    - Какое возрастное ограничение встречается чаще всего? (1)\n",
    "        - 0+\n",
    "    - Какое среднее число отзывов в книге? (1)\n",
    "        - 2.3232533889468194\n",
    "    - Сколько книг имеют оценку ниже 4.25? (1)\n",
    "        - 557 имеют оценку ниже 4.25\n",
    "        - из них 270 имеют пользовательские оценки, а 287 оценок не имеют\n",
    "    - В каком году было написано больше всего книг из датасета? (1)\n",
    "        - 2023"
   ]
  },
  {
   "cell_type": "code",
   "id": "7acdc1d7",
   "metadata": {
    "ExecuteTime": {
     "end_time": "2024-09-04T20:36:38.047664Z",
     "start_time": "2024-09-04T20:36:38.043295Z"
    }
   },
   "source": [
    "df['price'].median()"
   ],
   "outputs": [
    {
     "data": {
      "text/plain": [
       "349.0"
      ]
     },
     "execution_count": 6,
     "metadata": {},
     "output_type": "execute_result"
    }
   ],
   "execution_count": 6
  },
  {
   "cell_type": "code",
   "id": "c2d050b3",
   "metadata": {
    "ExecuteTime": {
     "end_time": "2024-09-04T20:38:10.890561Z",
     "start_time": "2024-09-04T20:38:10.885691Z"
    }
   },
   "source": "df['age'].mode()",
   "outputs": [
    {
     "data": {
      "text/plain": [
       "0    0+\n",
       "Name: age, dtype: object"
      ]
     },
     "execution_count": 9,
     "metadata": {},
     "output_type": "execute_result"
    }
   ],
   "execution_count": 9
  },
  {
   "cell_type": "code",
   "id": "fc87cf96",
   "metadata": {
    "ExecuteTime": {
     "end_time": "2024-09-04T20:38:16.669081Z",
     "start_time": "2024-09-04T20:38:16.665102Z"
    }
   },
   "source": [
    "df['review_count'].mean()"
   ],
   "outputs": [
    {
     "data": {
      "text/plain": [
       "2.3232533889468194"
      ]
     },
     "execution_count": 10,
     "metadata": {},
     "output_type": "execute_result"
    }
   ],
   "execution_count": 10
  },
  {
   "cell_type": "code",
   "id": "6e985010",
   "metadata": {
    "ExecuteTime": {
     "end_time": "2024-09-04T20:38:33.256498Z",
     "start_time": "2024-09-04T20:38:33.252490Z"
    }
   },
   "source": [
    "df[df.rating < 4.25].shape[0]"
   ],
   "outputs": [
    {
     "data": {
      "text/plain": [
       "557"
      ]
     },
     "execution_count": 11,
     "metadata": {},
     "output_type": "execute_result"
    }
   ],
   "execution_count": 11
  },
  {
   "cell_type": "code",
   "id": "8357aaac",
   "metadata": {
    "ExecuteTime": {
     "end_time": "2024-09-04T20:39:18.980064Z",
     "start_time": "2024-09-04T20:39:18.975480Z"
    }
   },
   "source": [
    "df[(df.rating < 4.25) & (df.rating_count > 0)].shape[0]"
   ],
   "outputs": [
    {
     "data": {
      "text/plain": [
       "270"
      ]
     },
     "execution_count": 12,
     "metadata": {},
     "output_type": "execute_result"
    }
   ],
   "execution_count": 12
  },
  {
   "cell_type": "code",
   "id": "9d4cc9d2",
   "metadata": {
    "ExecuteTime": {
     "end_time": "2024-09-04T20:39:21.718415Z",
     "start_time": "2024-09-04T20:39:21.713604Z"
    }
   },
   "source": [
    "df[df.rating_count == 0].shape[0]"
   ],
   "outputs": [
    {
     "data": {
      "text/plain": [
       "287"
      ]
     },
     "execution_count": 13,
     "metadata": {},
     "output_type": "execute_result"
    }
   ],
   "execution_count": 13
  },
  {
   "cell_type": "code",
   "id": "dada1045",
   "metadata": {
    "ExecuteTime": {
     "end_time": "2024-09-04T20:39:46.122882Z",
     "start_time": "2024-09-04T20:39:46.118481Z"
    }
   },
   "source": [
    "df['year'].mode()"
   ],
   "outputs": [
    {
     "data": {
      "text/plain": [
       "0    2023.0\n",
       "Name: year, dtype: float64"
      ]
     },
     "execution_count": 14,
     "metadata": {},
     "output_type": "execute_result"
    }
   ],
   "execution_count": 14
  },
  {
   "cell_type": "markdown",
   "id": "33796e19",
   "metadata": {},
   "source": [
    "\n",
    "6. Создайте новое поле is_popular. Значение равно 1, если рейтинг книги не менее 4.6 и при этом у нее не менее 5 отзывов, и 0 в остальных случаях. (1)\n"
   ]
  },
  {
   "cell_type": "code",
   "id": "85b16e14",
   "metadata": {
    "ExecuteTime": {
     "end_time": "2024-09-04T20:40:20.510152Z",
     "start_time": "2024-09-04T20:40:20.499760Z"
    }
   },
   "source": [
    "df['is_popular'] = ((df['rating'] >= 4.6) & (df['review_count'] >= 5)).astype(int)\n",
    "df"
   ],
   "outputs": [
    {
     "data": {
      "text/plain": [
       "     Unnamed: 0                                               name  \\\n",
       "0             0  Изучаем DDD – предметно-ориентированное проект...   \n",
       "1             1  Высоконагруженные приложения. Программирование...   \n",
       "2             2      System Design. Подготовка к сложному интервью   \n",
       "3             3                 Начинаем программировать на Python   \n",
       "4             4                                   Нейросети начало   \n",
       "..          ...                                                ...   \n",
       "954         954  Справочник системного администратора по програ...   \n",
       "955         955  Математика на Python. Часть I. Элементы линейн...   \n",
       "956         956                    Быстрое программирование на С++   \n",
       "957         957  UML: поддержка проектирования и инструментальн...   \n",
       "958         958  Методы создания автоматизированных средств обу...   \n",
       "\n",
       "                 author                                               link  \\\n",
       "0          Влад Хононов  /book/vlad-hononov/izuchaem-ddd-predmetno-orie...   \n",
       "1       Мартин Клеппман  /book/martin-kleppman-1733/vysokonagruzhennye-...   \n",
       "2             Алекс Сюй  /book/aleks-suy/system-design-podgotovka-k-slo...   \n",
       "3           Тони Гэддис  /book/toni-geddis-32491161/nachinaem-programmi...   \n",
       "4          Джейд Картер    /book/dzheyd-karter/neyroseti-nachalo-69188950/   \n",
       "..                  ...                                                ...   \n",
       "954       И. В. Коробко  /book/ivan-korobko/spravochnik-sistemnogo-admi...   \n",
       "955  И. А. Александрова  /book/anna-sergeevna-hripu/matematika-na-pytho...   \n",
       "956       Г. А. Тяпичев  /book/gennadiy-tyapichev/bystroe-programmirova...   \n",
       "957       Н. С. Макаров  /book/n-s-makarov/uml-podderzhka-proektirovani...   \n",
       "958      О. В. Ратанова  /book/o-v-ratanova/metody-sozdaniya-avtomatizi...   \n",
       "\n",
       "     rating  rating_count  review_count  pages_count  price  \\\n",
       "0      0.00             0             1        319.0  549.0   \n",
       "1      3.98            51            11        640.0  799.0   \n",
       "2      3.59            17             9        304.0  699.0   \n",
       "3      4.94            16             6        875.0  599.0   \n",
       "4      4.88           440            37        102.0  690.0   \n",
       "..      ...           ...           ...          ...    ...   \n",
       "954    4.27            11             1        555.0  239.0   \n",
       "955    3.76            33             4         77.0  200.0   \n",
       "956    2.50             2             1        374.0  300.0   \n",
       "957    0.00             0             0         17.0  168.0   \n",
       "958    5.00             1             0          8.0  168.0   \n",
       "\n",
       "                                          text_reviews  age    year  \\\n",
       "0    ['Эта книга из той лиги, в которой я пока не с...   0+  2022.0   \n",
       "1    ['Не могу что-либо про перевод сказать, читал ...  16+  2017.0   \n",
       "2    ['Добротная книга по разработке архитектуры пр...  16+  2020.0   \n",
       "3    ['Шикарная книга! Начал изучать Python самосто...  12+  2021.0   \n",
       "4    ['Книга отличная. Давно хотела понять как все ...  12+  2023.0   \n",
       "..                                                 ...  ...     ...   \n",
       "954  ['Мне, как начинающему системному администрато...   0+  2009.0   \n",
       "955  ['Замечательная книга, которую ждали многие лю...   0+  2018.0   \n",
       "956  ['Очень ценная книга! Материал так разумно рас...   0+  2009.0   \n",
       "957                                                 []   0+  2007.0   \n",
       "958                                                 []   0+  2021.0   \n",
       "\n",
       "     is_popular  \n",
       "0             0  \n",
       "1             0  \n",
       "2             0  \n",
       "3             1  \n",
       "4             1  \n",
       "..          ...  \n",
       "954           0  \n",
       "955           0  \n",
       "956           0  \n",
       "957           0  \n",
       "958           0  \n",
       "\n",
       "[959 rows x 13 columns]"
      ],
      "text/html": [
       "<div>\n",
       "<style scoped>\n",
       "    .dataframe tbody tr th:only-of-type {\n",
       "        vertical-align: middle;\n",
       "    }\n",
       "\n",
       "    .dataframe tbody tr th {\n",
       "        vertical-align: top;\n",
       "    }\n",
       "\n",
       "    .dataframe thead th {\n",
       "        text-align: right;\n",
       "    }\n",
       "</style>\n",
       "<table border=\"1\" class=\"dataframe\">\n",
       "  <thead>\n",
       "    <tr style=\"text-align: right;\">\n",
       "      <th></th>\n",
       "      <th>Unnamed: 0</th>\n",
       "      <th>name</th>\n",
       "      <th>author</th>\n",
       "      <th>link</th>\n",
       "      <th>rating</th>\n",
       "      <th>rating_count</th>\n",
       "      <th>review_count</th>\n",
       "      <th>pages_count</th>\n",
       "      <th>price</th>\n",
       "      <th>text_reviews</th>\n",
       "      <th>age</th>\n",
       "      <th>year</th>\n",
       "      <th>is_popular</th>\n",
       "    </tr>\n",
       "  </thead>\n",
       "  <tbody>\n",
       "    <tr>\n",
       "      <th>0</th>\n",
       "      <td>0</td>\n",
       "      <td>Изучаем DDD – предметно-ориентированное проект...</td>\n",
       "      <td>Влад Хононов</td>\n",
       "      <td>/book/vlad-hononov/izuchaem-ddd-predmetno-orie...</td>\n",
       "      <td>0.00</td>\n",
       "      <td>0</td>\n",
       "      <td>1</td>\n",
       "      <td>319.0</td>\n",
       "      <td>549.0</td>\n",
       "      <td>['Эта книга из той лиги, в которой я пока не с...</td>\n",
       "      <td>0+</td>\n",
       "      <td>2022.0</td>\n",
       "      <td>0</td>\n",
       "    </tr>\n",
       "    <tr>\n",
       "      <th>1</th>\n",
       "      <td>1</td>\n",
       "      <td>Высоконагруженные приложения. Программирование...</td>\n",
       "      <td>Мартин Клеппман</td>\n",
       "      <td>/book/martin-kleppman-1733/vysokonagruzhennye-...</td>\n",
       "      <td>3.98</td>\n",
       "      <td>51</td>\n",
       "      <td>11</td>\n",
       "      <td>640.0</td>\n",
       "      <td>799.0</td>\n",
       "      <td>['Не могу что-либо про перевод сказать, читал ...</td>\n",
       "      <td>16+</td>\n",
       "      <td>2017.0</td>\n",
       "      <td>0</td>\n",
       "    </tr>\n",
       "    <tr>\n",
       "      <th>2</th>\n",
       "      <td>2</td>\n",
       "      <td>System Design. Подготовка к сложному интервью</td>\n",
       "      <td>Алекс Сюй</td>\n",
       "      <td>/book/aleks-suy/system-design-podgotovka-k-slo...</td>\n",
       "      <td>3.59</td>\n",
       "      <td>17</td>\n",
       "      <td>9</td>\n",
       "      <td>304.0</td>\n",
       "      <td>699.0</td>\n",
       "      <td>['Добротная книга по разработке архитектуры пр...</td>\n",
       "      <td>16+</td>\n",
       "      <td>2020.0</td>\n",
       "      <td>0</td>\n",
       "    </tr>\n",
       "    <tr>\n",
       "      <th>3</th>\n",
       "      <td>3</td>\n",
       "      <td>Начинаем программировать на Python</td>\n",
       "      <td>Тони Гэддис</td>\n",
       "      <td>/book/toni-geddis-32491161/nachinaem-programmi...</td>\n",
       "      <td>4.94</td>\n",
       "      <td>16</td>\n",
       "      <td>6</td>\n",
       "      <td>875.0</td>\n",
       "      <td>599.0</td>\n",
       "      <td>['Шикарная книга! Начал изучать Python самосто...</td>\n",
       "      <td>12+</td>\n",
       "      <td>2021.0</td>\n",
       "      <td>1</td>\n",
       "    </tr>\n",
       "    <tr>\n",
       "      <th>4</th>\n",
       "      <td>4</td>\n",
       "      <td>Нейросети начало</td>\n",
       "      <td>Джейд Картер</td>\n",
       "      <td>/book/dzheyd-karter/neyroseti-nachalo-69188950/</td>\n",
       "      <td>4.88</td>\n",
       "      <td>440</td>\n",
       "      <td>37</td>\n",
       "      <td>102.0</td>\n",
       "      <td>690.0</td>\n",
       "      <td>['Книга отличная. Давно хотела понять как все ...</td>\n",
       "      <td>12+</td>\n",
       "      <td>2023.0</td>\n",
       "      <td>1</td>\n",
       "    </tr>\n",
       "    <tr>\n",
       "      <th>...</th>\n",
       "      <td>...</td>\n",
       "      <td>...</td>\n",
       "      <td>...</td>\n",
       "      <td>...</td>\n",
       "      <td>...</td>\n",
       "      <td>...</td>\n",
       "      <td>...</td>\n",
       "      <td>...</td>\n",
       "      <td>...</td>\n",
       "      <td>...</td>\n",
       "      <td>...</td>\n",
       "      <td>...</td>\n",
       "      <td>...</td>\n",
       "    </tr>\n",
       "    <tr>\n",
       "      <th>954</th>\n",
       "      <td>954</td>\n",
       "      <td>Справочник системного администратора по програ...</td>\n",
       "      <td>И. В. Коробко</td>\n",
       "      <td>/book/ivan-korobko/spravochnik-sistemnogo-admi...</td>\n",
       "      <td>4.27</td>\n",
       "      <td>11</td>\n",
       "      <td>1</td>\n",
       "      <td>555.0</td>\n",
       "      <td>239.0</td>\n",
       "      <td>['Мне, как начинающему системному администрато...</td>\n",
       "      <td>0+</td>\n",
       "      <td>2009.0</td>\n",
       "      <td>0</td>\n",
       "    </tr>\n",
       "    <tr>\n",
       "      <th>955</th>\n",
       "      <td>955</td>\n",
       "      <td>Математика на Python. Часть I. Элементы линейн...</td>\n",
       "      <td>И. А. Александрова</td>\n",
       "      <td>/book/anna-sergeevna-hripu/matematika-na-pytho...</td>\n",
       "      <td>3.76</td>\n",
       "      <td>33</td>\n",
       "      <td>4</td>\n",
       "      <td>77.0</td>\n",
       "      <td>200.0</td>\n",
       "      <td>['Замечательная книга, которую ждали многие лю...</td>\n",
       "      <td>0+</td>\n",
       "      <td>2018.0</td>\n",
       "      <td>0</td>\n",
       "    </tr>\n",
       "    <tr>\n",
       "      <th>956</th>\n",
       "      <td>956</td>\n",
       "      <td>Быстрое программирование на С++</td>\n",
       "      <td>Г. А. Тяпичев</td>\n",
       "      <td>/book/gennadiy-tyapichev/bystroe-programmirova...</td>\n",
       "      <td>2.50</td>\n",
       "      <td>2</td>\n",
       "      <td>1</td>\n",
       "      <td>374.0</td>\n",
       "      <td>300.0</td>\n",
       "      <td>['Очень ценная книга! Материал так разумно рас...</td>\n",
       "      <td>0+</td>\n",
       "      <td>2009.0</td>\n",
       "      <td>0</td>\n",
       "    </tr>\n",
       "    <tr>\n",
       "      <th>957</th>\n",
       "      <td>957</td>\n",
       "      <td>UML: поддержка проектирования и инструментальн...</td>\n",
       "      <td>Н. С. Макаров</td>\n",
       "      <td>/book/n-s-makarov/uml-podderzhka-proektirovani...</td>\n",
       "      <td>0.00</td>\n",
       "      <td>0</td>\n",
       "      <td>0</td>\n",
       "      <td>17.0</td>\n",
       "      <td>168.0</td>\n",
       "      <td>[]</td>\n",
       "      <td>0+</td>\n",
       "      <td>2007.0</td>\n",
       "      <td>0</td>\n",
       "    </tr>\n",
       "    <tr>\n",
       "      <th>958</th>\n",
       "      <td>958</td>\n",
       "      <td>Методы создания автоматизированных средств обу...</td>\n",
       "      <td>О. В. Ратанова</td>\n",
       "      <td>/book/o-v-ratanova/metody-sozdaniya-avtomatizi...</td>\n",
       "      <td>5.00</td>\n",
       "      <td>1</td>\n",
       "      <td>0</td>\n",
       "      <td>8.0</td>\n",
       "      <td>168.0</td>\n",
       "      <td>[]</td>\n",
       "      <td>0+</td>\n",
       "      <td>2021.0</td>\n",
       "      <td>0</td>\n",
       "    </tr>\n",
       "  </tbody>\n",
       "</table>\n",
       "<p>959 rows × 13 columns</p>\n",
       "</div>"
      ]
     },
     "execution_count": 15,
     "metadata": {},
     "output_type": "execute_result"
    }
   ],
   "execution_count": 15
  },
  {
   "cell_type": "markdown",
   "id": "3d8d7967",
   "metadata": {},
   "source": [
    "\n",
    "7. Как отличается среднее число страниц среди популярных и непопулярных книг? (2)\n",
    "    - у популярных 353, у непопулярных 251\n"
   ]
  },
  {
   "cell_type": "code",
   "id": "b1a62385",
   "metadata": {
    "ExecuteTime": {
     "end_time": "2024-09-04T20:40:42.268391Z",
     "start_time": "2024-09-04T20:40:42.263703Z"
    }
   },
   "source": [
    "df[df.is_popular == 1]['pages_count'].mean()"
   ],
   "outputs": [
    {
     "data": {
      "text/plain": [
       "353.21875"
      ]
     },
     "execution_count": 16,
     "metadata": {},
     "output_type": "execute_result"
    }
   ],
   "execution_count": 16
  },
  {
   "cell_type": "code",
   "id": "feb6ae6d",
   "metadata": {
    "ExecuteTime": {
     "end_time": "2024-09-04T20:40:50.408794Z",
     "start_time": "2024-09-04T20:40:50.403557Z"
    }
   },
   "source": [
    "\n",
    "df[df.is_popular == 0]['pages_count'].mean()"
   ],
   "outputs": [
    {
     "data": {
      "text/plain": [
       "251.8202502844141"
      ]
     },
     "execution_count": 17,
     "metadata": {},
     "output_type": "execute_result"
    }
   ],
   "execution_count": 17
  },
  {
   "cell_type": "markdown",
   "id": "d833b404",
   "metadata": {},
   "source": [
    "8. Выведите топ-10 книг по числу отзывов. (2)."
   ]
  },
  {
   "cell_type": "code",
   "id": "219304a1",
   "metadata": {
    "ExecuteTime": {
     "end_time": "2024-09-04T20:41:10.783830Z",
     "start_time": "2024-09-04T20:41:10.773196Z"
    }
   },
   "source": [
    "df.nlargest(10, 'review_count')"
   ],
   "outputs": [
    {
     "data": {
      "text/plain": [
       "     Unnamed: 0                                               name  \\\n",
       "454         454                               Оптимизация в Python   \n",
       "4             4                                   Нейросети начало   \n",
       "206         206  Психбольница в руках пациентов. Алан Купер об ...   \n",
       "122         122  Теоретический минимум по Computer Science. Все...   \n",
       "347         347  Идеальный программист. Как стать профессионало...   \n",
       "494         494  Говорят, в IT много платят. Как построить успе...   \n",
       "148         148  #Сам себе программист. Как научиться программи...   \n",
       "431         431         Базовые знания тестировщика веб-приложений   \n",
       "43           43                Сделай видеоигру один и не свихнись   \n",
       "229         229                Сделай видеоигру один и не свихнись   \n",
       "\n",
       "                     author  \\\n",
       "454            Джейд Картер   \n",
       "4              Джейд Картер   \n",
       "206              Алан Купер   \n",
       "122  Владстон Феррейра Фило   \n",
       "347           Роберт Мартин   \n",
       "494          Елена Правдина   \n",
       "148           Кори Альтхофф   \n",
       "431         Марина Охапкина   \n",
       "43               Слава Грис   \n",
       "229              Слава Грис   \n",
       "\n",
       "                                                  link  rating  rating_count  \\\n",
       "454  /book/dzheyd-karter/optimizaciya-v-python-6998...    4.94           306   \n",
       "4      /book/dzheyd-karter/neyroseti-nachalo-69188950/    4.88           440   \n",
       "206  /book/alan-kuper/psihbolnica-v-rukah-pacientov...    3.94            64   \n",
       "122  /book/vladston-ferreyra-fi/teoreticheskiy-mini...    3.90            94   \n",
       "347  /book/robert-s-martin/idealnyy-programmist-kak...    4.54           191   \n",
       "494  /book/elena-pravdina-25436/govoryat-v-it-mnogo...    4.21            66   \n",
       "148  /book/kori-althoff/sam-sebe-programmist-kak-na...    4.13           128   \n",
       "431  /book/vadim-ohapkin/bazovye-znaniya-testirovsc...    4.43           237   \n",
       "43   /book/slava-gris/sdelay-videoigru-odin-i-ne-sv...    4.73            86   \n",
       "229  /audiobook/slava-gris/sdelay-videoigru-odin-i-...    4.88            73   \n",
       "\n",
       "     review_count  pages_count  price  \\\n",
       "454            41        252.0  690.0   \n",
       "4              37        102.0  690.0   \n",
       "206            30        502.0  599.0   \n",
       "122            28        224.0  599.0   \n",
       "347            27        247.0  449.0   \n",
       "494            27        291.0  379.0   \n",
       "148            25        210.0  299.0   \n",
       "431            25         67.0    NaN   \n",
       "43             24        242.0  499.0   \n",
       "229            24          NaN  529.0   \n",
       "\n",
       "                                          text_reviews  age    year  \\\n",
       "454  ['Много интересных путей оптимизации показано....  12+  2023.0   \n",
       "4    ['Книга отличная. Давно хотела понять как все ...  12+  2023.0   \n",
       "206  ['хорошая книжка, но уже немного подотстает от...  16+  2004.0   \n",
       "122  ['Прекрасная книга. Рекомендовал и старшим шко...  16+  2017.0   \n",
       "347  ['Книга – истинный кладезь премудрости для опт...  12+  2011.0   \n",
       "494  ['Книга написана профессиональным специалистом...  16+  2021.0   \n",
       "148  ['Отличная книга чтобы начать программировать,...  12+  2017.0   \n",
       "431  ['Из любопытства просмотрела книгу и, как опыт...  12+  2015.0   \n",
       "43   ['Отличная книга для инди-разработчиков! Must ...  12+  2023.0   \n",
       "229  ['Начну со слов \"Слава - моё почтение\".Вначале...  12+  2023.0   \n",
       "\n",
       "     is_popular  \n",
       "454           1  \n",
       "4             1  \n",
       "206           0  \n",
       "122           0  \n",
       "347           0  \n",
       "494           0  \n",
       "148           0  \n",
       "431           0  \n",
       "43            1  \n",
       "229           1  "
      ],
      "text/html": [
       "<div>\n",
       "<style scoped>\n",
       "    .dataframe tbody tr th:only-of-type {\n",
       "        vertical-align: middle;\n",
       "    }\n",
       "\n",
       "    .dataframe tbody tr th {\n",
       "        vertical-align: top;\n",
       "    }\n",
       "\n",
       "    .dataframe thead th {\n",
       "        text-align: right;\n",
       "    }\n",
       "</style>\n",
       "<table border=\"1\" class=\"dataframe\">\n",
       "  <thead>\n",
       "    <tr style=\"text-align: right;\">\n",
       "      <th></th>\n",
       "      <th>Unnamed: 0</th>\n",
       "      <th>name</th>\n",
       "      <th>author</th>\n",
       "      <th>link</th>\n",
       "      <th>rating</th>\n",
       "      <th>rating_count</th>\n",
       "      <th>review_count</th>\n",
       "      <th>pages_count</th>\n",
       "      <th>price</th>\n",
       "      <th>text_reviews</th>\n",
       "      <th>age</th>\n",
       "      <th>year</th>\n",
       "      <th>is_popular</th>\n",
       "    </tr>\n",
       "  </thead>\n",
       "  <tbody>\n",
       "    <tr>\n",
       "      <th>454</th>\n",
       "      <td>454</td>\n",
       "      <td>Оптимизация в Python</td>\n",
       "      <td>Джейд Картер</td>\n",
       "      <td>/book/dzheyd-karter/optimizaciya-v-python-6998...</td>\n",
       "      <td>4.94</td>\n",
       "      <td>306</td>\n",
       "      <td>41</td>\n",
       "      <td>252.0</td>\n",
       "      <td>690.0</td>\n",
       "      <td>['Много интересных путей оптимизации показано....</td>\n",
       "      <td>12+</td>\n",
       "      <td>2023.0</td>\n",
       "      <td>1</td>\n",
       "    </tr>\n",
       "    <tr>\n",
       "      <th>4</th>\n",
       "      <td>4</td>\n",
       "      <td>Нейросети начало</td>\n",
       "      <td>Джейд Картер</td>\n",
       "      <td>/book/dzheyd-karter/neyroseti-nachalo-69188950/</td>\n",
       "      <td>4.88</td>\n",
       "      <td>440</td>\n",
       "      <td>37</td>\n",
       "      <td>102.0</td>\n",
       "      <td>690.0</td>\n",
       "      <td>['Книга отличная. Давно хотела понять как все ...</td>\n",
       "      <td>12+</td>\n",
       "      <td>2023.0</td>\n",
       "      <td>1</td>\n",
       "    </tr>\n",
       "    <tr>\n",
       "      <th>206</th>\n",
       "      <td>206</td>\n",
       "      <td>Психбольница в руках пациентов. Алан Купер об ...</td>\n",
       "      <td>Алан Купер</td>\n",
       "      <td>/book/alan-kuper/psihbolnica-v-rukah-pacientov...</td>\n",
       "      <td>3.94</td>\n",
       "      <td>64</td>\n",
       "      <td>30</td>\n",
       "      <td>502.0</td>\n",
       "      <td>599.0</td>\n",
       "      <td>['хорошая книжка, но уже немного подотстает от...</td>\n",
       "      <td>16+</td>\n",
       "      <td>2004.0</td>\n",
       "      <td>0</td>\n",
       "    </tr>\n",
       "    <tr>\n",
       "      <th>122</th>\n",
       "      <td>122</td>\n",
       "      <td>Теоретический минимум по Computer Science. Все...</td>\n",
       "      <td>Владстон Феррейра Фило</td>\n",
       "      <td>/book/vladston-ferreyra-fi/teoreticheskiy-mini...</td>\n",
       "      <td>3.90</td>\n",
       "      <td>94</td>\n",
       "      <td>28</td>\n",
       "      <td>224.0</td>\n",
       "      <td>599.0</td>\n",
       "      <td>['Прекрасная книга. Рекомендовал и старшим шко...</td>\n",
       "      <td>16+</td>\n",
       "      <td>2017.0</td>\n",
       "      <td>0</td>\n",
       "    </tr>\n",
       "    <tr>\n",
       "      <th>347</th>\n",
       "      <td>347</td>\n",
       "      <td>Идеальный программист. Как стать профессионало...</td>\n",
       "      <td>Роберт Мартин</td>\n",
       "      <td>/book/robert-s-martin/idealnyy-programmist-kak...</td>\n",
       "      <td>4.54</td>\n",
       "      <td>191</td>\n",
       "      <td>27</td>\n",
       "      <td>247.0</td>\n",
       "      <td>449.0</td>\n",
       "      <td>['Книга – истинный кладезь премудрости для опт...</td>\n",
       "      <td>12+</td>\n",
       "      <td>2011.0</td>\n",
       "      <td>0</td>\n",
       "    </tr>\n",
       "    <tr>\n",
       "      <th>494</th>\n",
       "      <td>494</td>\n",
       "      <td>Говорят, в IT много платят. Как построить успе...</td>\n",
       "      <td>Елена Правдина</td>\n",
       "      <td>/book/elena-pravdina-25436/govoryat-v-it-mnogo...</td>\n",
       "      <td>4.21</td>\n",
       "      <td>66</td>\n",
       "      <td>27</td>\n",
       "      <td>291.0</td>\n",
       "      <td>379.0</td>\n",
       "      <td>['Книга написана профессиональным специалистом...</td>\n",
       "      <td>16+</td>\n",
       "      <td>2021.0</td>\n",
       "      <td>0</td>\n",
       "    </tr>\n",
       "    <tr>\n",
       "      <th>148</th>\n",
       "      <td>148</td>\n",
       "      <td>#Сам себе программист. Как научиться программи...</td>\n",
       "      <td>Кори Альтхофф</td>\n",
       "      <td>/book/kori-althoff/sam-sebe-programmist-kak-na...</td>\n",
       "      <td>4.13</td>\n",
       "      <td>128</td>\n",
       "      <td>25</td>\n",
       "      <td>210.0</td>\n",
       "      <td>299.0</td>\n",
       "      <td>['Отличная книга чтобы начать программировать,...</td>\n",
       "      <td>12+</td>\n",
       "      <td>2017.0</td>\n",
       "      <td>0</td>\n",
       "    </tr>\n",
       "    <tr>\n",
       "      <th>431</th>\n",
       "      <td>431</td>\n",
       "      <td>Базовые знания тестировщика веб-приложений</td>\n",
       "      <td>Марина Охапкина</td>\n",
       "      <td>/book/vadim-ohapkin/bazovye-znaniya-testirovsc...</td>\n",
       "      <td>4.43</td>\n",
       "      <td>237</td>\n",
       "      <td>25</td>\n",
       "      <td>67.0</td>\n",
       "      <td>NaN</td>\n",
       "      <td>['Из любопытства просмотрела книгу и, как опыт...</td>\n",
       "      <td>12+</td>\n",
       "      <td>2015.0</td>\n",
       "      <td>0</td>\n",
       "    </tr>\n",
       "    <tr>\n",
       "      <th>43</th>\n",
       "      <td>43</td>\n",
       "      <td>Сделай видеоигру один и не свихнись</td>\n",
       "      <td>Слава Грис</td>\n",
       "      <td>/book/slava-gris/sdelay-videoigru-odin-i-ne-sv...</td>\n",
       "      <td>4.73</td>\n",
       "      <td>86</td>\n",
       "      <td>24</td>\n",
       "      <td>242.0</td>\n",
       "      <td>499.0</td>\n",
       "      <td>['Отличная книга для инди-разработчиков! Must ...</td>\n",
       "      <td>12+</td>\n",
       "      <td>2023.0</td>\n",
       "      <td>1</td>\n",
       "    </tr>\n",
       "    <tr>\n",
       "      <th>229</th>\n",
       "      <td>229</td>\n",
       "      <td>Сделай видеоигру один и не свихнись</td>\n",
       "      <td>Слава Грис</td>\n",
       "      <td>/audiobook/slava-gris/sdelay-videoigru-odin-i-...</td>\n",
       "      <td>4.88</td>\n",
       "      <td>73</td>\n",
       "      <td>24</td>\n",
       "      <td>NaN</td>\n",
       "      <td>529.0</td>\n",
       "      <td>['Начну со слов \"Слава - моё почтение\".Вначале...</td>\n",
       "      <td>12+</td>\n",
       "      <td>2023.0</td>\n",
       "      <td>1</td>\n",
       "    </tr>\n",
       "  </tbody>\n",
       "</table>\n",
       "</div>"
      ]
     },
     "execution_count": 18,
     "metadata": {},
     "output_type": "execute_result"
    }
   ],
   "execution_count": 18
  },
  {
   "cell_type": "markdown",
   "id": "74993ac0",
   "metadata": {},
   "source": [
    "9. Найдите среднюю длину отзыва (в символах). (2)\n",
    "    - 368"
   ]
  },
  {
   "cell_type": "code",
   "id": "55965aaa",
   "metadata": {
    "ExecuteTime": {
     "end_time": "2024-09-04T20:41:46.735731Z",
     "start_time": "2024-09-04T20:41:46.701865Z"
    }
   },
   "source": [
    "import ast\n",
    "df['text_reviews'].map(ast.literal_eval).explode().dropna().map(len).mean()"
   ],
   "outputs": [
    {
     "data": {
      "text/plain": [
       "368.95915619389586"
      ]
     },
     "execution_count": 20,
     "metadata": {},
     "output_type": "execute_result"
    }
   ],
   "execution_count": 20
  },
  {
   "metadata": {},
   "cell_type": "markdown",
   "source": [
    "\n",
    "10. Постройте таблицу корреляций числовых переменных. (1) Прокомментируйте результаты. (1)\n",
    "    1. количество оценок коррелирует с количеством отзывов\n",
    "    2. количество страниц коррелирует с ценой - чем больше книга, тем она дороже\n",
    "    3. наблюдается корреляция между годом выпуска и ценой - новые книги стоят дороже\n",
    "    4. рейтинг книги коррелирует с количеством страниц - чем больше книга, тем выше её оценивают\n",
    "    5. популярность книги практически не коррелирует с годом выхода, ценой или количеством страниц"
   ],
   "id": "52bee7ef"
  },
  {
   "cell_type": "code",
   "id": "53112fd6",
   "metadata": {
    "ExecuteTime": {
     "end_time": "2024-09-04T20:42:14.431375Z",
     "start_time": "2024-09-04T20:42:14.423719Z"
    }
   },
   "source": [
    "df.corr(numeric_only=True)"
   ],
   "outputs": [
    {
     "data": {
      "text/plain": [
       "              Unnamed: 0    rating  rating_count  review_count  pages_count  \\\n",
       "Unnamed: 0      1.000000 -0.543369     -0.259877     -0.355462    -0.614636   \n",
       "rating         -0.543369  1.000000      0.246478      0.329815     0.449594   \n",
       "rating_count   -0.259877  0.246478      1.000000      0.689066     0.094201   \n",
       "review_count   -0.355462  0.329815      0.689066      1.000000     0.230611   \n",
       "pages_count    -0.614636  0.449594      0.094201      0.230611     1.000000   \n",
       "price          -0.619339  0.391669      0.201273      0.255309     0.591529   \n",
       "year           -0.452204  0.292336      0.130633      0.083193     0.169482   \n",
       "is_popular     -0.184672  0.172749      0.603310      0.406023     0.077953   \n",
       "\n",
       "                 price      year  is_popular  \n",
       "Unnamed: 0   -0.619339 -0.452204   -0.184672  \n",
       "rating        0.391669  0.292336    0.172749  \n",
       "rating_count  0.201273  0.130633    0.603310  \n",
       "review_count  0.255309  0.083193    0.406023  \n",
       "pages_count   0.591529  0.169482    0.077953  \n",
       "price         1.000000  0.423926    0.157155  \n",
       "year          0.423926  1.000000    0.165228  \n",
       "is_popular    0.157155  0.165228    1.000000  "
      ],
      "text/html": [
       "<div>\n",
       "<style scoped>\n",
       "    .dataframe tbody tr th:only-of-type {\n",
       "        vertical-align: middle;\n",
       "    }\n",
       "\n",
       "    .dataframe tbody tr th {\n",
       "        vertical-align: top;\n",
       "    }\n",
       "\n",
       "    .dataframe thead th {\n",
       "        text-align: right;\n",
       "    }\n",
       "</style>\n",
       "<table border=\"1\" class=\"dataframe\">\n",
       "  <thead>\n",
       "    <tr style=\"text-align: right;\">\n",
       "      <th></th>\n",
       "      <th>Unnamed: 0</th>\n",
       "      <th>rating</th>\n",
       "      <th>rating_count</th>\n",
       "      <th>review_count</th>\n",
       "      <th>pages_count</th>\n",
       "      <th>price</th>\n",
       "      <th>year</th>\n",
       "      <th>is_popular</th>\n",
       "    </tr>\n",
       "  </thead>\n",
       "  <tbody>\n",
       "    <tr>\n",
       "      <th>Unnamed: 0</th>\n",
       "      <td>1.000000</td>\n",
       "      <td>-0.543369</td>\n",
       "      <td>-0.259877</td>\n",
       "      <td>-0.355462</td>\n",
       "      <td>-0.614636</td>\n",
       "      <td>-0.619339</td>\n",
       "      <td>-0.452204</td>\n",
       "      <td>-0.184672</td>\n",
       "    </tr>\n",
       "    <tr>\n",
       "      <th>rating</th>\n",
       "      <td>-0.543369</td>\n",
       "      <td>1.000000</td>\n",
       "      <td>0.246478</td>\n",
       "      <td>0.329815</td>\n",
       "      <td>0.449594</td>\n",
       "      <td>0.391669</td>\n",
       "      <td>0.292336</td>\n",
       "      <td>0.172749</td>\n",
       "    </tr>\n",
       "    <tr>\n",
       "      <th>rating_count</th>\n",
       "      <td>-0.259877</td>\n",
       "      <td>0.246478</td>\n",
       "      <td>1.000000</td>\n",
       "      <td>0.689066</td>\n",
       "      <td>0.094201</td>\n",
       "      <td>0.201273</td>\n",
       "      <td>0.130633</td>\n",
       "      <td>0.603310</td>\n",
       "    </tr>\n",
       "    <tr>\n",
       "      <th>review_count</th>\n",
       "      <td>-0.355462</td>\n",
       "      <td>0.329815</td>\n",
       "      <td>0.689066</td>\n",
       "      <td>1.000000</td>\n",
       "      <td>0.230611</td>\n",
       "      <td>0.255309</td>\n",
       "      <td>0.083193</td>\n",
       "      <td>0.406023</td>\n",
       "    </tr>\n",
       "    <tr>\n",
       "      <th>pages_count</th>\n",
       "      <td>-0.614636</td>\n",
       "      <td>0.449594</td>\n",
       "      <td>0.094201</td>\n",
       "      <td>0.230611</td>\n",
       "      <td>1.000000</td>\n",
       "      <td>0.591529</td>\n",
       "      <td>0.169482</td>\n",
       "      <td>0.077953</td>\n",
       "    </tr>\n",
       "    <tr>\n",
       "      <th>price</th>\n",
       "      <td>-0.619339</td>\n",
       "      <td>0.391669</td>\n",
       "      <td>0.201273</td>\n",
       "      <td>0.255309</td>\n",
       "      <td>0.591529</td>\n",
       "      <td>1.000000</td>\n",
       "      <td>0.423926</td>\n",
       "      <td>0.157155</td>\n",
       "    </tr>\n",
       "    <tr>\n",
       "      <th>year</th>\n",
       "      <td>-0.452204</td>\n",
       "      <td>0.292336</td>\n",
       "      <td>0.130633</td>\n",
       "      <td>0.083193</td>\n",
       "      <td>0.169482</td>\n",
       "      <td>0.423926</td>\n",
       "      <td>1.000000</td>\n",
       "      <td>0.165228</td>\n",
       "    </tr>\n",
       "    <tr>\n",
       "      <th>is_popular</th>\n",
       "      <td>-0.184672</td>\n",
       "      <td>0.172749</td>\n",
       "      <td>0.603310</td>\n",
       "      <td>0.406023</td>\n",
       "      <td>0.077953</td>\n",
       "      <td>0.157155</td>\n",
       "      <td>0.165228</td>\n",
       "      <td>1.000000</td>\n",
       "    </tr>\n",
       "  </tbody>\n",
       "</table>\n",
       "</div>"
      ]
     },
     "execution_count": 21,
     "metadata": {},
     "output_type": "execute_result"
    }
   ],
   "execution_count": 21
  },
  {
   "cell_type": "markdown",
   "id": "e365b280",
   "metadata": {},
   "source": [
    "11. Постройте диаграмму рассеяния (scatterplot) количества страниц и количества отзывов. Не забудьте подписать график и оси. (1) Прокомментируйте полученные результаты. (1)\n",
    "    - большинство книг получают не больше 10 отзыво\n",
    "    - книги с меньшим количеством страниц встречаются чаще\n",
    "    - у книг с меньшим количеством страниц больше отзывов"
   ]
  },
  {
   "cell_type": "code",
   "id": "e3f7bc36",
   "metadata": {
    "ExecuteTime": {
     "end_time": "2024-09-04T20:42:49.012551Z",
     "start_time": "2024-09-04T20:42:48.853143Z"
    }
   },
   "source": [
    "import matplotlib.pyplot as plt\n",
    "\n",
    "plt.scatter(df['pages_count'], df['review_count'])"
   ],
   "outputs": [
    {
     "data": {
      "text/plain": [
       "<matplotlib.collections.PathCollection at 0x1fd4af7c560>"
      ]
     },
     "execution_count": 23,
     "metadata": {},
     "output_type": "execute_result"
    },
    {
     "data": {
      "text/plain": [
       "<Figure size 640x480 with 1 Axes>"
      ],
      "image/png": "[encoded data removed]"
     },
     "metadata": {},
     "output_type": "display_data"
    }
   ],
   "execution_count": 23
  },
  {
   "cell_type": "markdown",
   "id": "12cd4c3b",
   "metadata": {},
   "source": [
    "12. Постройте линейный график: по оси Х год, по оси Y количество книг. (1) Прокомментируйте. (1)\n",
    "    - новых кинг в продаже больше, чем старых"
   ]
  },
  {
   "cell_type": "code",
   "id": "0dfc571e",
   "metadata": {
    "ExecuteTime": {
     "end_time": "2024-09-04T20:43:21.451533Z",
     "start_time": "2024-09-04T20:43:21.367896Z"
    }
   },
   "source": [
    "plt.plot(df['year'].value_counts().sort_index())"
   ],
   "outputs": [
    {
     "data": {
      "text/plain": [
       "[<matplotlib.lines.Line2D at 0x1fd4d1e5a00>]"
      ]
     },
     "execution_count": 24,
     "metadata": {},
     "output_type": "execute_result"
    },
    {
     "data": {
      "text/plain": [
       "<Figure size 640x480 with 1 Axes>"
      ],
      "image/png": "[encoded data removed]"
     },
     "metadata": {},
     "output_type": "display_data"
    }
   ],
   "execution_count": 24
  },
  {
   "cell_type": "markdown",
   "id": "318d8bd4",
   "metadata": {},
   "source": [
    "13. Постройте еще любые два графика по вашему усмотрению. (2) Прокомментируйте полученные результаты. (1.5)\n",
    "    - на первом графике видно, что, действительно, чем больше страниц в книге, тем выше её цена\n",
    "    - также выделяются несколько значений цены, которые часто используются, независимо от количества страниц (около 1000 рублей, около 700 рублей и около 500 рублей)\n",
    "    - на втором графике видно, что книги с меньшим количеством страниц чаще получают более низкие оценки, что объясняется изначально большим количеством таких книг"
   ]
  },
  {
   "cell_type": "code",
   "id": "2c629771",
   "metadata": {
    "ExecuteTime": {
     "end_time": "2024-09-04T20:43:29.330161Z",
     "start_time": "2024-09-04T20:43:29.258165Z"
    }
   },
   "source": [
    "plt.scatter(df['pages_count'], df['price'])"
   ],
   "outputs": [
    {
     "data": {
      "text/plain": [
       "<matplotlib.collections.PathCollection at 0x1fd4d23df40>"
      ]
     },
     "execution_count": 25,
     "metadata": {},
     "output_type": "execute_result"
    },
    {
     "data": {
      "text/plain": [
       "<Figure size 640x480 with 1 Axes>"
      ],
      "image/png": "[encoded data removed]"
     },
     "metadata": {},
     "output_type": "display_data"
    }
   ],
   "execution_count": 25
  },
  {
   "cell_type": "code",
   "id": "127c03d8",
   "metadata": {
    "ExecuteTime": {
     "end_time": "2024-09-04T20:43:37.398961Z",
     "start_time": "2024-09-04T20:43:37.213319Z"
    }
   },
   "source": [
    "plt.scatter(df['pages_count'], df['rating'])"
   ],
   "outputs": [
    {
     "data": {
      "text/plain": [
       "<matplotlib.collections.PathCollection at 0x1fd4b08d820>"
      ]
     },
     "execution_count": 26,
     "metadata": {},
     "output_type": "execute_result"
    },
    {
     "data": {
      "text/plain": [
       "<Figure size 640x480 with 1 Axes>"
      ],
      "image/png": "[encoded data removed]"
     },
     "metadata": {},
     "output_type": "display_data"
    }
   ],
   "execution_count": 26
  },
  {
   "cell_type": "markdown",
   "id": "86232f1e",
   "metadata": {},
   "source": [
    "\n",
    "14. Постройте таблицу с авторами книг с именем автора, количество книг в датасете, средней оценкой книг, средним количеством отзывов. (2)."
   ]
  },
  {
   "cell_type": "code",
   "id": "72a3e73f",
   "metadata": {
    "ExecuteTime": {
     "end_time": "2024-09-04T20:44:10.383108Z",
     "start_time": "2024-09-04T20:44:10.372758Z"
    }
   },
   "source": [
    "df.groupby(['author']).agg(\n",
    "    books_count=('name', 'count'),\n",
    "    rating_mean=('rating', 'mean'),\n",
    "    reviews_count_mean=('review_count', 'mean')\n",
    ")\n"
   ],
   "outputs": [
    {
     "data": {
      "text/plain": [
       "                books_count  rating_mean  reviews_count_mean\n",
       "author                                                      \n",
       "Arsen Gonian              1         5.00                 1.0\n",
       "C. И. Никишов             1         4.67                 3.0\n",
       "ChatGPT-4                 2         3.89                 9.0\n",
       "Eugeny Shtoltc            2         2.50                 0.0\n",
       "Jade Carter               1         0.00                 0.0\n",
       "...                     ...          ...                 ...\n",
       "Якоб Нильсен              1         3.79                 3.0\n",
       "Ян Гойвертс               1         4.00                 1.0\n",
       "Ян Пойнтер                1         3.60                 2.0\n",
       "Янта Катупития            1         4.86                 3.0\n",
       "Ярон Мински               1         5.00                 2.0\n",
       "\n",
       "[677 rows x 3 columns]"
      ],
      "text/html": [
       "<div>\n",
       "<style scoped>\n",
       "    .dataframe tbody tr th:only-of-type {\n",
       "        vertical-align: middle;\n",
       "    }\n",
       "\n",
       "    .dataframe tbody tr th {\n",
       "        vertical-align: top;\n",
       "    }\n",
       "\n",
       "    .dataframe thead th {\n",
       "        text-align: right;\n",
       "    }\n",
       "</style>\n",
       "<table border=\"1\" class=\"dataframe\">\n",
       "  <thead>\n",
       "    <tr style=\"text-align: right;\">\n",
       "      <th></th>\n",
       "      <th>books_count</th>\n",
       "      <th>rating_mean</th>\n",
       "      <th>reviews_count_mean</th>\n",
       "    </tr>\n",
       "    <tr>\n",
       "      <th>author</th>\n",
       "      <th></th>\n",
       "      <th></th>\n",
       "      <th></th>\n",
       "    </tr>\n",
       "  </thead>\n",
       "  <tbody>\n",
       "    <tr>\n",
       "      <th>Arsen Gonian</th>\n",
       "      <td>1</td>\n",
       "      <td>5.00</td>\n",
       "      <td>1.0</td>\n",
       "    </tr>\n",
       "    <tr>\n",
       "      <th>C. И. Никишов</th>\n",
       "      <td>1</td>\n",
       "      <td>4.67</td>\n",
       "      <td>3.0</td>\n",
       "    </tr>\n",
       "    <tr>\n",
       "      <th>ChatGPT-4</th>\n",
       "      <td>2</td>\n",
       "      <td>3.89</td>\n",
       "      <td>9.0</td>\n",
       "    </tr>\n",
       "    <tr>\n",
       "      <th>Eugeny Shtoltc</th>\n",
       "      <td>2</td>\n",
       "      <td>2.50</td>\n",
       "      <td>0.0</td>\n",
       "    </tr>\n",
       "    <tr>\n",
       "      <th>Jade Carter</th>\n",
       "      <td>1</td>\n",
       "      <td>0.00</td>\n",
       "      <td>0.0</td>\n",
       "    </tr>\n",
       "    <tr>\n",
       "      <th>...</th>\n",
       "      <td>...</td>\n",
       "      <td>...</td>\n",
       "      <td>...</td>\n",
       "    </tr>\n",
       "    <tr>\n",
       "      <th>Якоб Нильсен</th>\n",
       "      <td>1</td>\n",
       "      <td>3.79</td>\n",
       "      <td>3.0</td>\n",
       "    </tr>\n",
       "    <tr>\n",
       "      <th>Ян Гойвертс</th>\n",
       "      <td>1</td>\n",
       "      <td>4.00</td>\n",
       "      <td>1.0</td>\n",
       "    </tr>\n",
       "    <tr>\n",
       "      <th>Ян Пойнтер</th>\n",
       "      <td>1</td>\n",
       "      <td>3.60</td>\n",
       "      <td>2.0</td>\n",
       "    </tr>\n",
       "    <tr>\n",
       "      <th>Янта Катупития</th>\n",
       "      <td>1</td>\n",
       "      <td>4.86</td>\n",
       "      <td>3.0</td>\n",
       "    </tr>\n",
       "    <tr>\n",
       "      <th>Ярон Мински</th>\n",
       "      <td>1</td>\n",
       "      <td>5.00</td>\n",
       "      <td>2.0</td>\n",
       "    </tr>\n",
       "  </tbody>\n",
       "</table>\n",
       "<p>677 rows × 3 columns</p>\n",
       "</div>"
      ]
     },
     "execution_count": 27,
     "metadata": {},
     "output_type": "execute_result"
    }
   ],
   "execution_count": 27
  },
  {
   "cell_type": "markdown",
   "id": "b8f249f9",
   "metadata": {},
   "source": [
    "\n",
    "15. Что еще интересного можно увидеть в этом датасете? Просмотрите на данные и ответьте на какие-нибудь вопросы, на которые не ответили в предыдущим пункте. Мы никак не ограничиваем вашу фантазию! (3).\n"
   ]
  }
 ],
 "metadata": {
  "kernelspec": {
   "display_name": "Python 3",
   "language": "python",
   "name": "python3"
  },
  "language_info": {
   "codemirror_mode": {
    "name": "ipython",
    "version": 3
   },
   "file_extension": ".py",
   "mimetype": "text/x-python",
   "name": "python",
   "nbconvert_exporter": "python",
   "pygments_lexer": "ipython3",
   "version": "3.12.5"
  }
 },
 "nbformat": 4,
 "nbformat_minor": 5
}
